{
 "cells": [
  {
   "cell_type": "markdown",
   "source": [
    "# Setup\n"
   ],
   "metadata": {}
  },
  {
   "cell_type": "code",
   "execution_count": null,
   "source": [
    "!pip install transformers\n"
   ],
   "outputs": [],
   "metadata": {}
  },
  {
   "cell_type": "code",
   "execution_count": null,
   "source": [
    "#import model and tokenizer\n",
    "from transformers import AutoTokenizer\n",
    "from transformers import AutoModelForQuestionAnswering\n",
    "import torch"
   ],
   "outputs": [],
   "metadata": {}
  },
  {
   "cell_type": "markdown",
   "source": [
    "## Run Chatbot"
   ],
   "metadata": {}
  },
  {
   "cell_type": "code",
   "execution_count": null,
   "source": [
    "#pre trained Model loading\n",
    "## return_dict=True.  If set to True, the model will return a ModelOutput\n",
    "model = AutoModelForQuestionAnswering.from_pretrained(\"bert-large-uncased-whole-word-masking-finetuned-squad\", return_dict=True)\n",
    "#loading the Tokenizer \n",
    "## A class with the appropriate architecture will be automatically generated usingAutoTokenizer\n",
    "tokenizer = AutoTokenizer.from_pretrained(\"bert-large-uncased-whole-word-masking-finetuned-squad\")"
   ],
   "outputs": [],
   "metadata": {}
  },
  {
   "cell_type": "code",
   "execution_count": null,
   "source": [
    "text=\"\"\"Leonardo di ser Piero da Vinci[b] (15 April 1452 – 2 May 1519) was an Italian polymath of the High Renaissance who was active as a painter, draughtsman, engineer, scientist, theorist, sculptor, and architect.[3] While his fame initially rested on his achievements as a painter, he also became known for his notebooks, in which he made drawings and notes on a variety of subjects, including anatomy, astronomy, botany, cartography, painting, and paleontology. Leonardo is widely regarded to have been a genius who epitomized the Renaissance humanist ideal,[4] and his collective works comprise a contribution to later generations of artists matched only by that of his younger contemporary, Michelangelo.[3][4]\n",
    "\n",
    "Born out of wedlock to a successful notary and a lower-class woman in, or near, Vinci, he was educated in Florence by the Italian painter and sculptor Andrea del Verrocchio. He began his career in the city, but then spent much time in the service of Ludovico Sforza in Milan. Later, he worked in Florence and Milan again, as well as briefly in Rome, all while attracting a large following of imitators and students. Upon the invitation of Francis I, he spent his last three years in France, where he died in 1519. Since his death, there has not been a time where his achievements, diverse interests, personal life, and empirical thinking have failed to incite interest and admiration,[3][4] making him a frequent namesake and subject in culture.\n",
    "\n",
    "Leonardo is identified as one of the greatest painters in the history of art and is often credited as the founder of the High Renaissance.[3] Despite having many lost works and less than 25 attributed major works-including numerous unfinished works-he created some of the most influential paintings in Western art.[3] His magnum opus, the Mona Lisa, is his best known work and often regarded as the world's most famous painting. The Last Supper is the most reproduced religious painting of all time and his Vitruvian Man drawing is also regarded as a cultural icon. In 2017, Salvator Mundi, attributed in whole or part to Leonardo,[5] was sold at auction for US$450.3 million, setting a new record for the most expensive painting ever sold at public auction.\"\"\""
   ],
   "outputs": [],
   "metadata": {}
  },
  {
   "cell_type": "code",
   "execution_count": null,
   "source": [
    "## answer a user's inquiry using a specified function \n",
    "def chat_ans(input_question):\n",
    "# texts tokenization with encode_plus. ## return_tensors = \"pt means you will return pytorch tensor\n",
    "    input_token = tokenizer.encode_plus(input_question, text, return_tensors=\"pt\")\n",
    "#obtaining scores from tokens \n",
    "## by providing return_dict=False, you may compel the model into returning a tuple: \n",
    "    rep_str, rep_en = model(**input_token,return_dict=False)\n",
    "    #getting the position\n",
    "## Find the beginning of the answer that is most likely to be correct using the argmax of the score. \n",
    "    pos_start = torch.argmax(rep_str)\n",
    "## Find the end of the answer that is most likely to be correct using the argmax of the score.\n",
    "    pos_end = torch.argmax(rep_en) + 1\n",
    "#tokens conversion of id using the function convert_ids_to_tokens()\n",
    "    rep_token = tokenizer.convert_ids_to_tokens(input_token[\"input_ids\"][0][pos_start:pos_end])\n",
    "#We get the response\n",
    "    return tokenizer.convert_tokens_to_string(rep_token)"
   ],
   "outputs": [],
   "metadata": {}
  },
  {
   "cell_type": "code",
   "execution_count": null,
   "source": [
    "question = \"when did Leonardo di ser Piero da Vinci born\"\n",
    "chat_ans(question)\n",
    "## output 15 april 1452"
   ],
   "outputs": [],
   "metadata": {}
  },
  {
   "cell_type": "code",
   "execution_count": null,
   "source": [
    "question = \"where does he receive its education\"\n",
    "chat_ans(question)\n",
    "## output Florence'"
   ],
   "outputs": [],
   "metadata": {}
  },
  {
   "cell_type": "code",
   "execution_count": null,
   "source": [
    "question = \"who was Leonardo di ser Piero da Vinci\"\n",
    "chat_ans(question)\n",
    "## out put an italian polymath of the high renaissance"
   ],
   "outputs": [],
   "metadata": {}
  },
  {
   "cell_type": "code",
   "execution_count": null,
   "source": [
    "question = \"what are his achievements\"\n",
    "chat_ans(question)\n",
    "## output  painter, draughtsman, engineer, scientist, theorist, sculptor, and architect"
   ],
   "outputs": [],
   "metadata": {}
  }
 ],
 "metadata": {
  "orig_nbformat": 4,
  "language_info": {
   "name": "python"
  }
 },
 "nbformat": 4,
 "nbformat_minor": 2
}